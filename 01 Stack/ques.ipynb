{
 "cells": [
  {
   "cell_type": "code",
   "execution_count": null,
   "metadata": {},
   "outputs": [],
   "source": [
    "#Valid parenthesis\n",
    "# Leetcode https://leetcode.com/problems/valid-parentheses/\n",
    "def isValid(self, s: str) -> bool:\n",
    "    valid = {\"(\": \")\", \"[\": \"]\", \"{\": \"}\"}\n",
    "    stack = []\n",
    "    \n",
    "    for paran in s:\n",
    "        if paran in ('(', '[', '{'):\n",
    "            stack.append(paran)\n",
    "\n",
    "        elif stack and valid[paran] == stack[-1]:\n",
    "            stack.pop()\n",
    "\n",
    "        else:\n",
    "            return False\n",
    "\n",
    "    return len(stack) == 0"
   ]
  },
  {
   "cell_type": "code",
   "execution_count": null,
   "metadata": {},
   "outputs": [],
   "source": [
    "#Baseball Points\n",
    "#Leetcode https://leetcode.com/problems/baseball-game/\n",
    "class Solution:\n",
    "    def calPoints(self, operations: List[str]) -> int:\n",
    "        stack=[]\n",
    "    \n",
    "        for i in operations:\n",
    "            if i.lstrip('-').isdigit(): \n",
    "                stack.append(int(i))\n",
    "\n",
    "            elif i==\"D\":\n",
    "                stack.append((int(stack[-1])*2))\n",
    "\n",
    "            elif i==\"C\":\n",
    "                if stack:\n",
    "                    stack.pop()\n",
    "                else:\n",
    "                    continue\n",
    "            \n",
    "            else:\n",
    "                if len(stack)>1:\n",
    "                    stack.append((int(stack[-1])+(int(stack[-2]))))\n",
    "                else:\n",
    "                    stack.append(int(stack[-1]))\n",
    "\n",
    "        return (sum(stack))"
   ]
  },
  {
   "cell_type": "code",
   "execution_count": null,
   "metadata": {},
   "outputs": [],
   "source": []
  }
 ],
 "metadata": {
  "language_info": {
   "name": "python"
  }
 },
 "nbformat": 4,
 "nbformat_minor": 2
}
